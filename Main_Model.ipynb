{
 "cells": [
  {
   "cell_type": "markdown",
   "id": "99945b89",
   "metadata": {},
   "source": [
    "# Career Prediction Model\n",
    "## Importing the important files \n",
    "- Numpy for the prediction datasets representation\n",
    "- Pandas is used for the datat manipulation\n",
    "- Sklearn to import the machine learning algorithm\n",
    "- Using Sklearn.metrics to show the accuracy score "
   ]
  },
  {
   "cell_type": "code",
   "execution_count": 36,
   "id": "84e80478",
   "metadata": {},
   "outputs": [],
   "source": [
    "import numpy as np\n",
    "import pandas as pd\n",
    "from sklearn.model_selection import train_test_split\n",
    "from sklearn.ensemble import RandomForestClassifier\n",
    "from sklearn.metrics import accuracy_score\n",
    "from tensorflow.math import confusion_matrix\n",
    "from sklearn.metrics import accuracy_score, classification_report\n",
    "from sklearn.metrics import f1_score\n",
    "from sklearn.metrics import classification_report\n"
   ]
  },
  {
   "cell_type": "markdown",
   "id": "c85ef593",
   "metadata": {},
   "source": [
    "## Load the datasets \n",
    "- This consits of datasets with the features  Openness, Conscientiousness, Extroversion, Agreeableness, and Neuroticism these features are used for the personality traits.\n",
    "- Numerical Aptitude, Spatial Aptitude, Perceptual Aptitude, Abstract Reasoning, Verbal Reasoning these the required set of the aptitude tests\n",
    "- The outcome column consist of the required career for the set of aptitude tests and the personality traits."
   ]
  },
  {
   "cell_type": "code",
   "execution_count": 37,
   "id": "3cc4a41d",
   "metadata": {},
   "outputs": [
    {
     "name": "stdout",
     "output_type": "stream",
     "text": [
      "     O_score  C_score  E_score  A_score  N_score  Numerical Aptitude  \\\n",
      "0       5.45     8.67     3.45     5.34     4.23                9.23   \n",
      "1       8.78     5.67     4.56     6.45     4.23                5.12   \n",
      "2       6.12     6.78     9.34     7.56     5.01                6.23   \n",
      "3       9.12     8.78     4.23     5.67     4.56                7.89   \n",
      "4       6.45     7.56     5.67     9.12     4.23                5.34   \n",
      "..       ...      ...      ...      ...      ...                 ...   \n",
      "100     7.67     8.23     6.01     9.12     5.45                4.45   \n",
      "101     2.67     8.78     7.67     8.45     6.45                4.45   \n",
      "102     6.78     8.67     4.23     5.23     4.67                8.23   \n",
      "103     7.34     7.67     4.23     5.23     4.67                9.34   \n",
      "104     7.34     7.67     4.23     5.45     4.89                9.12   \n",
      "\n",
      "     Spatial Aptitude  Perceptual Aptitude  Abstract Reasoning  \\\n",
      "0                4.56                 6.78                7.89   \n",
      "1                8.45                 7.89                6.34   \n",
      "2                4.23                 6.45                6.67   \n",
      "3                5.34                 6.45                9.34   \n",
      "4                4.01                 6.23                5.78   \n",
      "..                ...                  ...                 ...   \n",
      "100              2.89                 3.12                4.67   \n",
      "101              2.89                 3.12                4.67   \n",
      "102              7.67                 6.01                7.45   \n",
      "103              8.45                 6.78                8.12   \n",
      "104              8.67                 6.45                8.23   \n",
      "\n",
      "     Verbal Reasoning                                 Career  \n",
      "0                6.12                             Accountant  \n",
      "1                6.01                       Graphic Designer  \n",
      "2                8.45                            Salesperson  \n",
      "3                7.67                     Research Scientist  \n",
      "4                8.67                                Teacher  \n",
      "..                ...                                    ...  \n",
      "100              8.34                Foreign Service Officer  \n",
      "101              5.45  Customs and Border Protection Officer  \n",
      "102              5.45                         Civil Engineer  \n",
      "103              5.67                      Robotics Engineer  \n",
      "104              5.67            Electronics Design Engineer  \n",
      "\n",
      "[105 rows x 11 columns]\n"
     ]
    }
   ],
   "source": [
    " df = pd.read_csv('data_final.csv')\n",
    "print(pd.DataFrame(df))"
   ]
  },
  {
   "cell_type": "markdown",
   "id": "ef1e1edf",
   "metadata": {},
   "source": [
    "## Name of the features\n",
    "- O_score :- Openness\n",
    "- C_score :- Conscientiousness\n",
    "- E_score :- Extroversion\n",
    "- A_score :- Agreeableness\n",
    "- N_score :- Neuroticism\n",
    "- These are the primary personality traits which are used for the prediction of the personality test."
   ]
  },
  {
   "cell_type": "code",
   "execution_count": 38,
   "id": "612a93e7",
   "metadata": {},
   "outputs": [
    {
     "name": "stdout",
     "output_type": "stream",
     "text": [
      "O_score\n",
      "C_score\n",
      "E_score\n",
      "A_score\n",
      "N_score\n",
      "Numerical Aptitude\n",
      "Spatial Aptitude\n",
      "Perceptual Aptitude\n",
      "Abstract Reasoning\n",
      "Verbal Reasoning\n",
      "Career\n"
     ]
    }
   ],
   "source": [
    "index = df.columns\n",
    "for i in index:\n",
    "    print(i)"
   ]
  },
  {
   "cell_type": "markdown",
   "id": "13b2247d",
   "metadata": {},
   "source": [
    "## X_Train"
   ]
  },
  {
   "cell_type": "code",
   "execution_count": 39,
   "id": "a66dc012",
   "metadata": {},
   "outputs": [
    {
     "name": "stdout",
     "output_type": "stream",
     "text": [
      "   O_score  C_score  E_score  A_score  N_score  Numerical Aptitude  \\\n",
      "0     5.45     8.67     3.45     5.34     4.23                9.23   \n",
      "1     8.78     5.67     4.56     6.45     4.23                5.12   \n",
      "2     6.12     6.78     9.34     7.56     5.01                6.23   \n",
      "3     9.12     8.78     4.23     5.67     4.56                7.89   \n",
      "4     6.45     7.56     5.67     9.12     4.23                5.34   \n",
      "\n",
      "   Spatial Aptitude  Perceptual Aptitude  Abstract Reasoning  Verbal Reasoning  \n",
      "0              4.56                 6.78                7.89              6.12  \n",
      "1              8.45                 7.89                6.34              6.01  \n",
      "2              4.23                 6.45                6.67              8.45  \n",
      "3              5.34                 6.45                9.34              7.67  \n",
      "4              4.01                 6.23                5.78              8.67  \n"
     ]
    }
   ],
   "source": [
    "x_train = df.iloc[:,:-1]\n",
    "print(x_train.head())"
   ]
  },
  {
   "cell_type": "markdown",
   "id": "4f82a49d",
   "metadata": {},
   "source": [
    "## Y_train"
   ]
  },
  {
   "cell_type": "code",
   "execution_count": 40,
   "id": "610feb40",
   "metadata": {},
   "outputs": [
    {
     "name": "stdout",
     "output_type": "stream",
     "text": [
      "0            Accountant\n",
      "1      Graphic Designer\n",
      "2           Salesperson\n",
      "3    Research Scientist\n",
      "4               Teacher\n",
      "Name: Career, dtype: object\n"
     ]
    }
   ],
   "source": [
    "y_train = df.iloc[:,-1]\n",
    "print(y_train.head())"
   ]
  },
  {
   "cell_type": "markdown",
   "id": "1a4297c9",
   "metadata": {},
   "source": [
    "## Random Forest Algorithm\n",
    "This is a machine learning algorithm is used for the classification of the careers for the given set of aptitude and **OCEAN** Score"
   ]
  },
  {
   "cell_type": "code",
   "execution_count": 41,
   "id": "c721a433",
   "metadata": {},
   "outputs": [
    {
     "data": {
      "text/html": [
       "<style>#sk-container-id-3 {color: black;background-color: white;}#sk-container-id-3 pre{padding: 0;}#sk-container-id-3 div.sk-toggleable {background-color: white;}#sk-container-id-3 label.sk-toggleable__label {cursor: pointer;display: block;width: 100%;margin-bottom: 0;padding: 0.3em;box-sizing: border-box;text-align: center;}#sk-container-id-3 label.sk-toggleable__label-arrow:before {content: \"▸\";float: left;margin-right: 0.25em;color: #696969;}#sk-container-id-3 label.sk-toggleable__label-arrow:hover:before {color: black;}#sk-container-id-3 div.sk-estimator:hover label.sk-toggleable__label-arrow:before {color: black;}#sk-container-id-3 div.sk-toggleable__content {max-height: 0;max-width: 0;overflow: hidden;text-align: left;background-color: #f0f8ff;}#sk-container-id-3 div.sk-toggleable__content pre {margin: 0.2em;color: black;border-radius: 0.25em;background-color: #f0f8ff;}#sk-container-id-3 input.sk-toggleable__control:checked~div.sk-toggleable__content {max-height: 200px;max-width: 100%;overflow: auto;}#sk-container-id-3 input.sk-toggleable__control:checked~label.sk-toggleable__label-arrow:before {content: \"▾\";}#sk-container-id-3 div.sk-estimator input.sk-toggleable__control:checked~label.sk-toggleable__label {background-color: #d4ebff;}#sk-container-id-3 div.sk-label input.sk-toggleable__control:checked~label.sk-toggleable__label {background-color: #d4ebff;}#sk-container-id-3 input.sk-hidden--visually {border: 0;clip: rect(1px 1px 1px 1px);clip: rect(1px, 1px, 1px, 1px);height: 1px;margin: -1px;overflow: hidden;padding: 0;position: absolute;width: 1px;}#sk-container-id-3 div.sk-estimator {font-family: monospace;background-color: #f0f8ff;border: 1px dotted black;border-radius: 0.25em;box-sizing: border-box;margin-bottom: 0.5em;}#sk-container-id-3 div.sk-estimator:hover {background-color: #d4ebff;}#sk-container-id-3 div.sk-parallel-item::after {content: \"\";width: 100%;border-bottom: 1px solid gray;flex-grow: 1;}#sk-container-id-3 div.sk-label:hover label.sk-toggleable__label {background-color: #d4ebff;}#sk-container-id-3 div.sk-serial::before {content: \"\";position: absolute;border-left: 1px solid gray;box-sizing: border-box;top: 0;bottom: 0;left: 50%;z-index: 0;}#sk-container-id-3 div.sk-serial {display: flex;flex-direction: column;align-items: center;background-color: white;padding-right: 0.2em;padding-left: 0.2em;position: relative;}#sk-container-id-3 div.sk-item {position: relative;z-index: 1;}#sk-container-id-3 div.sk-parallel {display: flex;align-items: stretch;justify-content: center;background-color: white;position: relative;}#sk-container-id-3 div.sk-item::before, #sk-container-id-3 div.sk-parallel-item::before {content: \"\";position: absolute;border-left: 1px solid gray;box-sizing: border-box;top: 0;bottom: 0;left: 50%;z-index: -1;}#sk-container-id-3 div.sk-parallel-item {display: flex;flex-direction: column;z-index: 1;position: relative;background-color: white;}#sk-container-id-3 div.sk-parallel-item:first-child::after {align-self: flex-end;width: 50%;}#sk-container-id-3 div.sk-parallel-item:last-child::after {align-self: flex-start;width: 50%;}#sk-container-id-3 div.sk-parallel-item:only-child::after {width: 0;}#sk-container-id-3 div.sk-dashed-wrapped {border: 1px dashed gray;margin: 0 0.4em 0.5em 0.4em;box-sizing: border-box;padding-bottom: 0.4em;background-color: white;}#sk-container-id-3 div.sk-label label {font-family: monospace;font-weight: bold;display: inline-block;line-height: 1.2em;}#sk-container-id-3 div.sk-label-container {text-align: center;}#sk-container-id-3 div.sk-container {/* jupyter's `normalize.less` sets `[hidden] { display: none; }` but bootstrap.min.css set `[hidden] { display: none !important; }` so we also need the `!important` here to be able to override the default hidden behavior on the sphinx rendered scikit-learn.org. See: https://github.com/scikit-learn/scikit-learn/issues/21755 */display: inline-block !important;position: relative;}#sk-container-id-3 div.sk-text-repr-fallback {display: none;}</style><div id=\"sk-container-id-3\" class=\"sk-top-container\"><div class=\"sk-text-repr-fallback\"><pre>RandomForestClassifier(random_state=42)</pre><b>In a Jupyter environment, please rerun this cell to show the HTML representation or trust the notebook. <br />On GitHub, the HTML representation is unable to render, please try loading this page with nbviewer.org.</b></div><div class=\"sk-container\" hidden><div class=\"sk-item\"><div class=\"sk-estimator sk-toggleable\"><input class=\"sk-toggleable__control sk-hidden--visually\" id=\"sk-estimator-id-3\" type=\"checkbox\" checked><label for=\"sk-estimator-id-3\" class=\"sk-toggleable__label sk-toggleable__label-arrow\">RandomForestClassifier</label><div class=\"sk-toggleable__content\"><pre>RandomForestClassifier(random_state=42)</pre></div></div></div></div></div>"
      ],
      "text/plain": [
       "RandomForestClassifier(random_state=42)"
      ]
     },
     "execution_count": 41,
     "metadata": {},
     "output_type": "execute_result"
    }
   ],
   "source": [
    "model = RandomForestClassifier(random_state=42)\n",
    "model.fit(x_train,y_train)"
   ]
  },
  {
   "cell_type": "markdown",
   "id": "89b9d051",
   "metadata": {},
   "source": [
    "## Testing\n",
    "- Load the test datasets\n",
    "- predict the career for the give set of aptitude and personality tests using the model"
   ]
  },
  {
   "cell_type": "code",
   "execution_count": 42,
   "id": "b6cfed3d",
   "metadata": {},
   "outputs": [
    {
     "name": "stdout",
     "output_type": "stream",
     "text": [
      "Marketing Copywriter\n",
      "Wildlife Biologist\n",
      "Genetic Counselor\n",
      "Mechanical Engineer\n",
      "Forensic Scientist\n",
      "Social Media Manager\n",
      "Geologist\n",
      "Web Developer\n",
      "Wildlife Biologist\n",
      "Air Traffic Controller\n",
      "Game Developer\n",
      "Urban Planner\n",
      "Financial Advisor\n",
      "Airline Pilot\n",
      "Environmental Scientist\n",
      "Interior Designer\n",
      "Genetic Counselor\n",
      "Mechanical Designer\n",
      "Dental Hygienist\n",
      "Marketing Analyst\n",
      "Aerospace Engineer\n",
      "Pediatric Nurse\n",
      "Advertising Executive\n",
      "Wildlife Conservationist\n",
      "IT Project Manager\n",
      "Forestry Technician\n",
      "Video Game Tester\n",
      "Occupational Therapist\n",
      "Environmental Scientist\n",
      "Biomedical Researcher\n",
      "Database Administrator\n",
      "Public Relations Specialist\n",
      "Genetic Counselor\n",
      "Market Researcher\n",
      "Occupational Therapist\n",
      "Electrical Engineer\n",
      "Investment Banker\n",
      "Marine Biologist\n",
      "Human Rights Lawyer\n",
      "Insurance Underwriter\n",
      "Pediatrician\n",
      "Technical Writer\n",
      "Forensic Psychologist\n",
      "Product Manager\n",
      "Video Game Tester\n",
      "Pediatric Nurse\n",
      "Public Health Analyst\n",
      "Sports Coach\n",
      "Insurance Underwriter\n",
      "Chiropractor\n",
      "Radiologic Technologist\n",
      "Tax Accountant\n",
      "Quality Control Inspector\n",
      "Pediatric Nurse\n",
      "Film Director\n",
      "Foreign Service Officer\n",
      "Police Officer\n",
      "Administrative Officer\n",
      "Insurance Underwriter\n",
      "Foreign Service Officer\n",
      "Police Officer\n",
      "Civil Engineer\n",
      "Robotics Engineer\n",
      "Electronics Design Engineer\n"
     ]
    }
   ],
   "source": [
    "test = pd.read_csv('test_set.csv')\n",
    "x_test = test.iloc[:,:-1]\n",
    "y_test = test.iloc[:,-1]\n",
    "y_pred = model.predict(x_test)\n",
    "for i in y_pred:\n",
    "    print(i)"
   ]
  },
  {
   "cell_type": "markdown",
   "id": "5a2be1f4",
   "metadata": {},
   "source": [
    "## Checking the accuracy of the model\n",
    "-  Using the accuracy score\n",
    "- F1 score"
   ]
  },
  {
   "cell_type": "code",
   "execution_count": 43,
   "id": "f9a3426d",
   "metadata": {},
   "outputs": [
    {
     "name": "stdout",
     "output_type": "stream",
     "text": [
      "Test Accuracy: 81.25\n"
     ]
    }
   ],
   "source": [
    "test_accuracy = accuracy_score(y_test, y_pred) * 100\n",
    "print(f\"Test Accuracy: {test_accuracy:.2f}\")"
   ]
  },
  {
   "cell_type": "code",
   "execution_count": 46,
   "id": "9317450a",
   "metadata": {},
   "outputs": [
    {
     "name": "stdout",
     "output_type": "stream",
     "text": [
      "                                       precision    recall  f1-score   support\n",
      "\n",
      "               Administrative Officer     1.0000    1.0000    1.0000         1\n",
      "                Advertising Executive     1.0000    1.0000    1.0000         1\n",
      "                   Aerospace Engineer     1.0000    1.0000    1.0000         1\n",
      "               Air Traffic Controller     1.0000    1.0000    1.0000         1\n",
      "                        Airline Pilot     1.0000    1.0000    1.0000         1\n",
      "                Biomedical Researcher     1.0000    1.0000    1.0000         1\n",
      "                         Chiropractor     1.0000    1.0000    1.0000         1\n",
      "                       Civil Engineer     1.0000    1.0000    1.0000         1\n",
      "Customs and Border Protection Officer     0.0000    0.0000    0.0000         1\n",
      "               Database Administrator     1.0000    1.0000    1.0000         1\n",
      "                     Database Analyst     0.0000    0.0000    0.0000         1\n",
      "                     Dental Hygienist     1.0000    1.0000    1.0000         1\n",
      "                             Diplomat     0.0000    0.0000    0.0000         1\n",
      "                  Electrical Engineer     1.0000    1.0000    1.0000         1\n",
      "          Electronics Design Engineer     1.0000    1.0000    1.0000         1\n",
      "               Environmental Engineer     0.0000    0.0000    0.0000         1\n",
      "              Environmental Scientist     0.5000    1.0000    0.6667         1\n",
      "                      Fashion Stylist     0.0000    0.0000    0.0000         1\n",
      "                        Film Director     1.0000    1.0000    1.0000         1\n",
      "                    Financial Advisor     1.0000    1.0000    1.0000         1\n",
      "              Foreign Service Officer     0.5000    1.0000    0.6667         1\n",
      "                Forensic Psychologist     1.0000    1.0000    1.0000         1\n",
      "                   Forensic Scientist     1.0000    1.0000    1.0000         1\n",
      "                  Forestry Technician     1.0000    1.0000    1.0000         1\n",
      "                       Game Developer     1.0000    1.0000    1.0000         1\n",
      "                    Genetic Counselor     0.3333    1.0000    0.5000         1\n",
      "                            Geologist     1.0000    1.0000    1.0000         1\n",
      "                  Human Rights Lawyer     1.0000    1.0000    1.0000         1\n",
      "                   IT Project Manager     1.0000    1.0000    1.0000         1\n",
      "                Insurance Underwriter     0.3333    1.0000    0.5000         1\n",
      "                    Interior Designer     1.0000    1.0000    1.0000         1\n",
      "                    Investment Banker     1.0000    1.0000    1.0000         1\n",
      "                     Marine Biologist     1.0000    1.0000    1.0000         1\n",
      "                    Market Researcher     1.0000    1.0000    1.0000         1\n",
      "                    Marketing Analyst     1.0000    1.0000    1.0000         1\n",
      "                 Marketing Copywriter     1.0000    1.0000    1.0000         1\n",
      "                   Marriage Counselor     0.0000    0.0000    0.0000         1\n",
      "                  Mechanical Designer     1.0000    1.0000    1.0000         1\n",
      "                  Mechanical Engineer     1.0000    1.0000    1.0000         1\n",
      "               Occupational Therapist     0.5000    1.0000    0.6667         1\n",
      "                      Pediatric Nurse     0.3333    1.0000    0.5000         1\n",
      "                         Pediatrician     1.0000    1.0000    1.0000         1\n",
      "                   Physical Therapist     0.0000    0.0000    0.0000         1\n",
      "                       Police Officer     0.5000    1.0000    0.6667         1\n",
      "                      Product Manager     1.0000    1.0000    1.0000         1\n",
      "                Public Health Analyst     1.0000    1.0000    1.0000         1\n",
      "          Public Relations Specialist     1.0000    1.0000    1.0000         1\n",
      "            Quality Control Inspector     1.0000    1.0000    1.0000         1\n",
      "              Radiologic Technologist     1.0000    1.0000    1.0000         1\n",
      "             Rehabilitation Counselor     0.0000    0.0000    0.0000         1\n",
      "                    Robotics Engineer     1.0000    1.0000    1.0000         1\n",
      "                 Social Media Manager     1.0000    1.0000    1.0000         1\n",
      "                   Speech Pathologist     0.0000    0.0000    0.0000         1\n",
      "                     Speech Therapist     0.0000    0.0000    0.0000         1\n",
      "                         Sports Coach     1.0000    1.0000    1.0000         1\n",
      "                       Tax Accountant     1.0000    1.0000    1.0000         1\n",
      "                        Tax Collector     0.0000    0.0000    0.0000         1\n",
      "                     Technical Writer     1.0000    1.0000    1.0000         1\n",
      "                        Urban Planner     1.0000    1.0000    1.0000         1\n",
      "                    Video Game Tester     0.5000    1.0000    0.6667         1\n",
      "                        Web Developer     1.0000    1.0000    1.0000         1\n",
      "                   Wildlife Biologist     0.5000    1.0000    0.6667         1\n",
      "             Wildlife Conservationist     1.0000    1.0000    1.0000         1\n",
      "                            Zoologist     0.0000    0.0000    0.0000         1\n",
      "\n",
      "                             accuracy                         0.8125        64\n",
      "                            macro avg     0.7344    0.8125    0.7578        64\n",
      "                         weighted avg     0.7344    0.8125    0.7578        64\n",
      "\n"
     ]
    },
    {
     "name": "stderr",
     "output_type": "stream",
     "text": [
      "/Users/utkarshshrivastav/anaconda3/lib/python3.10/site-packages/sklearn/metrics/_classification.py:1344: UndefinedMetricWarning: Precision and F-score are ill-defined and being set to 0.0 in labels with no predicted samples. Use `zero_division` parameter to control this behavior.\n",
      "  _warn_prf(average, modifier, msg_start, len(result))\n",
      "/Users/utkarshshrivastav/anaconda3/lib/python3.10/site-packages/sklearn/metrics/_classification.py:1344: UndefinedMetricWarning: Precision and F-score are ill-defined and being set to 0.0 in labels with no predicted samples. Use `zero_division` parameter to control this behavior.\n",
      "  _warn_prf(average, modifier, msg_start, len(result))\n",
      "/Users/utkarshshrivastav/anaconda3/lib/python3.10/site-packages/sklearn/metrics/_classification.py:1344: UndefinedMetricWarning: Precision and F-score are ill-defined and being set to 0.0 in labels with no predicted samples. Use `zero_division` parameter to control this behavior.\n",
      "  _warn_prf(average, modifier, msg_start, len(result))\n"
     ]
    }
   ],
   "source": [
    "report = classification_report(y_test, y_pred, digits=4)\n",
    "print(report)"
   ]
  },
  {
   "cell_type": "markdown",
   "id": "125bad0d",
   "metadata": {},
   "source": [
    "## Explain the test terms\n",
    "- Precision is one of the key evaluation metrics used in classification tasks. It measures the accuracy of positive predictions made by a model, specifically, the ratio of true positive predictions to the total number of positive predictions made.\n",
    "- Recall, also known as sensitivity or true positive rate, is another important evaluation metric used in classification tasks. It measures the ability of a model to identify all relevant instances of a particular class, specifically, the ratio of true positive predictions to the total number of actual positive instances.\n",
    "- The F1 score is a metric used in classification tasks to provide a balance between precision and recall. It is the harmonic mean of precision and recall, and it helps assess the overall performance of a classification model. "
   ]
  },
  {
   "cell_type": "code",
   "execution_count": null,
   "id": "67db3b3a",
   "metadata": {},
   "outputs": [],
   "source": []
  }
 ],
 "metadata": {
  "kernelspec": {
   "display_name": "Python 3 (ipykernel)",
   "language": "python",
   "name": "python3"
  },
  "language_info": {
   "codemirror_mode": {
    "name": "ipython",
    "version": 3
   },
   "file_extension": ".py",
   "mimetype": "text/x-python",
   "name": "python",
   "nbconvert_exporter": "python",
   "pygments_lexer": "ipython3",
   "version": "3.10.9"
  }
 },
 "nbformat": 4,
 "nbformat_minor": 5
}
